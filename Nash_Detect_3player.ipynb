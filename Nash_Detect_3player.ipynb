{
  "cells": [
    {
      "cell_type": "markdown",
      "metadata": {
        "id": "view-in-github",
        "colab_type": "text"
      },
      "source": [
        "<a href=\"https://colab.research.google.com/github/yeonjooooni/fake-review-detection/blob/main/Nash_Detect_3player.ipynb\" target=\"_parent\"><img src=\"https://colab.research.google.com/assets/colab-badge.svg\" alt=\"Open In Colab\"/></a>"
      ]
    },
    {
      "cell_type": "code",
      "execution_count": null,
      "metadata": {
        "colab": {
          "base_uri": "https://localhost:8080/"
        },
        "id": "yl0OOAX5XAcv",
        "outputId": "a7bb2edd-0cc4-4098-f121-5c39a76017bf"
      },
      "outputs": [
        {
          "output_type": "stream",
          "name": "stdout",
          "text": [
            "Drive already mounted at /content/drive; to attempt to forcibly remount, call drive.mount(\"/content/drive\", force_remount=True).\n"
          ]
        }
      ],
      "source": [
        "from google.colab import drive\n",
        "drive.mount('/content/drive')"
      ]
    },
    {
      "cell_type": "code",
      "execution_count": null,
      "metadata": {
        "colab": {
          "base_uri": "https://localhost:8080/"
        },
        "id": "rXQkQLBdZcQw",
        "outputId": "e108cd9b-9e4c-4dcc-a059-453cd12894d3"
      },
      "outputs": [
        {
          "name": "stdout",
          "output_type": "stream",
          "text": [
            "/content/drive/MyDrive/3player-Nash-Detect\n"
          ]
        }
      ],
      "source": [
        "cd \"/content/drive/MyDrive/3player-Nash-Detect\""
      ]
    },
    {
      "cell_type": "code",
      "execution_count": null,
      "metadata": {
        "colab": {
          "base_uri": "https://localhost:8080/"
        },
        "id": "T60tIbbUoT0q",
        "outputId": "37fed4df-7ca2-4583-8633-46cf755a3ec9"
      },
      "outputs": [
        {
          "name": "stdout",
          "output_type": "stream",
          "text": [
            "Cloning into 'Nash-Detect'...\n",
            "remote: Enumerating objects: 162, done.\u001b[K\n",
            "remote: Counting objects: 100% (162/162), done.\u001b[K\n",
            "remote: Compressing objects: 100% (102/102), done.\u001b[K\n",
            "remote: Total 162 (delta 74), reused 135 (delta 58), pack-reused 0\u001b[K\n",
            "Receiving objects: 100% (162/162), 837.60 KiB | 1.65 MiB/s, done.\n",
            "Resolving deltas: 100% (74/74), done.\n"
          ]
        }
      ],
      "source": [
        "!git clone https://github.com/YingtongDou/Nash-Detect.git"
      ]
    },
    {
      "cell_type": "code",
      "execution_count": null,
      "metadata": {
        "id": "KxpgkQmCZk2F",
        "colab": {
          "base_uri": "https://localhost:8080/"
        },
        "outputId": "34e66d2f-c146-433e-c4ea-5a74649cbcad"
      },
      "outputs": [
        {
          "output_type": "stream",
          "name": "stdout",
          "text": [
            "/content/drive/My Drive/3player-Nash-Detect/Nash-Detect\n"
          ]
        }
      ],
      "source": [
        "cd \"/content/drive/My Drive/3player-Nash-Detect/Nash-Detect\""
      ]
    },
    {
      "cell_type": "code",
      "execution_count": null,
      "metadata": {
        "colab": {
          "base_uri": "https://localhost:8080/"
        },
        "id": "fgiJ77PealwS",
        "outputId": "0913b13c-fe69-4aad-8283-aa7cee9cbc71"
      },
      "outputs": [
        {
          "name": "stdout",
          "output_type": "stream",
          "text": [
            "Requirement already satisfied: numpy>=1.16.6 in /usr/local/lib/python3.7/dist-packages (from -r requirements.txt (line 1)) (1.19.5)\n",
            "Requirement already satisfied: scipy>=1.2.3 in /usr/local/lib/python3.7/dist-packages (from -r requirements.txt (line 2)) (1.4.1)\n",
            "Requirement already satisfied: scikit-learn>=0.20.4 in /usr/local/lib/python3.7/dist-packages (from -r requirements.txt (line 3)) (1.0.1)\n",
            "Requirement already satisfied: threadpoolctl>=2.0.0 in /usr/local/lib/python3.7/dist-packages (from scikit-learn>=0.20.4->-r requirements.txt (line 3)) (3.0.0)\n",
            "Requirement already satisfied: joblib>=0.11 in /usr/local/lib/python3.7/dist-packages (from scikit-learn>=0.20.4->-r requirements.txt (line 3)) (1.1.0)\n"
          ]
        }
      ],
      "source": [
        "pip install -r requirements.txt"
      ]
    },
    {
      "cell_type": "code",
      "execution_count": null,
      "metadata": {
        "id": "PNNiOpBEcdRA"
      },
      "outputs": [],
      "source": [
        "!python /content/drive/MyDrive/3player-Nash-Detect/Nash-Detect/attack_generation.py"
      ]
    },
    {
      "cell_type": "code",
      "execution_count": null,
      "metadata": {
        "id": "bbLA0rssPlsZ"
      },
      "outputs": [],
      "source": [
        "!python /content/drive/MyDrive/3player-Nash-Detect/Nash-Detect/worst_case.py"
      ]
    },
    {
      "cell_type": "code",
      "execution_count": null,
      "metadata": {
        "id": "wAHa90LqFW9u"
      },
      "outputs": [],
      "source": [
        "!python /content/drive/MyDrive/3player-Nash-Detect/Nash-Detect/training.py"
      ]
    },
    {
      "cell_type": "code",
      "execution_count": null,
      "metadata": {
        "id": "3Jfa6WVidJzu"
      },
      "outputs": [],
      "source": [
        "!python /content/drive/MyDrive/3player-Nash-Detect/Nash-Detect/worst_case.py"
      ]
    },
    {
      "cell_type": "code",
      "execution_count": null,
      "metadata": {
        "id": "VDqjFeIadV6x"
      },
      "outputs": [],
      "source": [
        "!python /content/drive/MyDrive/3player-Nash-Detect/Nash-Detect/testing.py"
      ]
    },
    {
      "cell_type": "code",
      "execution_count": null,
      "metadata": {
        "colab": {
          "base_uri": "https://localhost:8080/"
        },
        "id": "vY3bR1M8_Zlb",
        "outputId": "d076ac5b-e8ba-40be-b5df-facc15aa400a"
      },
      "outputs": [
        {
          "output_type": "stream",
          "name": "stdout",
          "text": [
            "dataset YelpChi runtime is time10\n",
            "Starting episode 0\n",
            "Run GANG ...\n",
            "Run SpEagle ...\n",
            "Run Fraudar ...\n",
            "Run fBox ...\n",
            "Run Prior ...\n",
            "Compute Posterior ...\n",
            "1364\n",
            "top k is 848\n",
            "Compute original Revenue ...\n",
            "Compute new Revenue ...\n",
            "Compute cost ...\n",
            "Compute reward ...\n",
            "Update attack P ...\n",
            "Update attack P' ...\n",
            "Update defense Q ...\n",
            "{'IncBP': 0.20132054918003792, 'IncDS': 0.19967108606631878, 'IncPR': 0.20639489410548853, 'Random': 0.20484287079259125, 'Singleton': 0.1877705998555635}\n",
            "{'IncBP': 0.2079313947590622, 'IncDS': 0.19904988914441632, 'IncPR': 0.20025909683314932, 'Random': 0.19165223159607445, 'Singleton': 0.20110738766729777}\n",
            "{'GANG': 0.2552503658389045, 'Prior': 0.22684415385163953, 'SpEagle': 0.2015209861837531, 'fBox': 0.2073537014774265, 'Fraudar': 0.2709903714492574}\n",
            "Total PE is 1.5438489507852622\n",
            "Total loss is 0.003732957186870534\n",
            "\n",
            "Time cost for episode 0 is 127.06318235397339.\n",
            "\n",
            "Starting episode 1\n",
            "Run GANG ...\n",
            "Run SpEagle ...\n",
            "Run Fraudar ...\n",
            "Run fBox ...\n",
            "Run Prior ...\n",
            "Compute Posterior ...\n",
            "1363\n",
            "top k is 839\n",
            "Compute original Revenue ...\n",
            "Compute new Revenue ...\n",
            "Compute cost ...\n",
            "Compute reward ...\n",
            "Update attack P ...\n",
            "Update attack P' ...\n",
            "Update defense Q ...\n",
            "{'IncBP': 0.21477213108468124, 'IncDS': 0.19143330255716834, 'IncPR': 0.22004789393368096, 'Random': 0.19596867895439768, 'Singleton': 0.17777799347007175}\n",
            "{'IncBP': 0.19858055755796067, 'IncDS': 0.19762524875731755, 'IncPR': 0.1961650721519739, 'Random': 0.1944099875625105, 'Singleton': 0.21321913397023742}\n",
            "{'GANG': 0.3105810990614495, 'Prior': 0.25236462055573705, 'SpEagle': 0.20300381124463523, 'fBox': 0.21482093688046247, 'Fraudar': 0.337391912064273}\n",
            "Total PE is 1.4618365297524991\n",
            "Total loss is 0.0034536568742027578\n",
            "\n",
            "Time cost for episode 1 is 128.49873876571655.\n",
            "\n",
            "Starting episode 2\n",
            "Run GANG ...\n",
            "Run SpEagle ...\n",
            "Run Fraudar ...\n",
            "Run fBox ...\n",
            "Run Prior ...\n",
            "Compute Posterior ...\n",
            "1364\n",
            "top k is 864\n",
            "Compute original Revenue ...\n",
            "Compute new Revenue ...\n",
            "Compute cost ...\n",
            "Compute reward ...\n",
            "Update attack P ...\n",
            "Update attack P' ...\n",
            "Update defense Q ...\n",
            "{'IncBP': 0.2150569455690484, 'IncDS': 0.19686463192929685, 'IncPR': 0.23198799257468683, 'Random': 0.17739354295388154, 'Singleton': 0.1786968869730864}\n",
            "{'IncBP': 0.21018597982006645, 'IncDS': 0.18859232486049832, 'IncPR': 0.19995241220299345, 'Random': 0.19031597017146518, 'Singleton': 0.21095331294497655}\n",
            "{'GANG': 0.37069477099371145, 'Prior': 0.2798261065127976, 'SpEagle': 0.20381001123278078, 'fBox': 0.22226404463811467, 'Fraudar': 0.4162669425965766}\n",
            "Total PE is 1.607740005578178\n",
            "Total loss is 0.003946486050859864\n",
            "\n",
            "Time cost for episode 2 is 129.97740411758423.\n",
            "\n",
            "Starting episode 3\n",
            "Run GANG ...\n",
            "Run SpEagle ...\n",
            "Run Fraudar ...\n",
            "Run fBox ...\n",
            "Run Prior ...\n",
            "Compute Posterior ...\n",
            "1363\n",
            "top k is 866\n",
            "Compute original Revenue ...\n",
            "Compute new Revenue ...\n",
            "Compute cost ...\n",
            "Compute reward ...\n",
            "Update attack P ...\n",
            "Update attack P' ...\n",
            "Update defense Q ...\n",
            "{'IncBP': 0.2295661066299239, 'IncDS': 0.18704137150172442, 'IncPR': 0.22950816695935378, 'Random': 0.17669705759518342, 'Singleton': 0.17718729731381433}\n",
            "{'IncBP': 0.21248770899454497, 'IncDS': 0.20273263931688199, 'IncPR': 0.19116689785341728, 'Random': 0.1939702311929741, 'Singleton': 0.19964252264218163}\n",
            "{'GANG': 0.4108916399402194, 'Prior': 0.2979853378458955, 'SpEagle': 0.20437108806483265, 'fBox': 0.22818837036346504, 'Fraudar': 0.4655035836626903}\n",
            "Total PE is 1.0596674782538926\n",
            "Total loss is 0.002593615648908785\n",
            "\n",
            "Time cost for episode 3 is 128.52756237983704.\n",
            "\n",
            "Starting episode 4\n",
            "Run GANG ...\n",
            "Run SpEagle ...\n",
            "Run Fraudar ...\n",
            "Run fBox ...\n",
            "Run Prior ...\n",
            "Compute Posterior ...\n",
            "1363\n",
            "top k is 871\n",
            "Compute original Revenue ...\n",
            "Compute new Revenue ...\n",
            "Compute cost ...\n",
            "Compute reward ...\n",
            "Update attack P ...\n",
            "Update attack P' ...\n",
            "Update defense Q ...\n",
            "{'IncBP': 0.2229502315186981, 'IncDS': 0.1794203579385906, 'IncPR': 0.22497071933209833, 'Random': 0.1888957226603133, 'Singleton': 0.18376296855029964}\n",
            "{'IncBP': 0.21627591062276816, 'IncDS': 0.19892635759506858, 'IncPR': 0.19886247435998583, 'Random': 0.19085211191406926, 'Singleton': 0.19508314550810818}\n",
            "{'GANG': 0.45614848200255736, 'Prior': 0.32014677326941793, 'SpEagle': 0.20565550721084794, 'fBox': 0.23834791476543096, 'Fraudar': 0.5148609657035226}\n",
            "Total PE is 0.744790106572659\n",
            "Total loss is 0.002814907406499467\n",
            "\n",
            "Time cost for episode 4 is 128.89269018173218.\n",
            "\n",
            "Starting episode 5\n",
            "Run GANG ...\n",
            "Run SpEagle ...\n",
            "Run Fraudar ...\n",
            "Run fBox ...\n",
            "Run Prior ...\n",
            "Compute Posterior ...\n",
            "1364\n",
            "top k is 866\n",
            "Compute original Revenue ...\n",
            "Compute new Revenue ...\n",
            "Compute cost ...\n",
            "Compute reward ...\n",
            "Update attack P ...\n",
            "Update attack P' ...\n",
            "Update defense Q ...\n",
            "{'IncBP': 0.2069874072744184, 'IncDS': 0.19650676755742216, 'IncPR': 0.21198667300307447, 'Random': 0.19059703874263392, 'Singleton': 0.19392211342245114}\n",
            "{'IncBP': 0.23335452855540756, 'IncDS': 0.18523227828875255, 'IncPR': 0.18524916354448723, 'Random': 0.20725456550807173, 'Singleton': 0.18890946410328088}\n",
            "{'GANG': 0.4943058735542554, 'Prior': 0.33876367960460907, 'SpEagle': 0.20728669606373992, 'fBox': 0.24429459332005046, 'Fraudar': 0.5686453753246541}\n",
            "Total PE is 0.7210517885350385\n",
            "Total loss is 0.002526027975930103\n",
            "\n",
            "Time cost for episode 5 is 128.6218502521515.\n",
            "\n",
            "Starting episode 6\n",
            "Run GANG ...\n",
            "Run SpEagle ...\n",
            "Run Fraudar ...\n",
            "Run fBox ...\n",
            "Run Prior ...\n",
            "Compute Posterior ...\n",
            "1364\n",
            "top k is 876\n",
            "Compute original Revenue ...\n",
            "Compute new Revenue ...\n",
            "Compute cost ...\n",
            "Compute reward ...\n",
            "Update attack P ...\n",
            "Update attack P' ...\n",
            "Update defense Q ...\n",
            "{'IncBP': 0.19362625459648056, 'IncDS': 0.19351156634012018, 'IncPR': 0.2305515598410459, 'Random': 0.1879370153999866, 'Singleton': 0.1943736038223667}\n",
            "{'IncBP': 0.2221711288514188, 'IncDS': 0.19514047987649544, 'IncPR': 0.1788175681962256, 'Random': 0.20518721956823513, 'Singleton': 0.19868360350762504}\n",
            "{'GANG': 0.5444966816862552, 'Prior': 0.3606503324620729, 'SpEagle': 0.20852525163092434, 'fBox': 0.2548302617664965, 'Fraudar': 0.6170302216872364}\n",
            "Total PE is 1.4059222922941108\n",
            "Total loss is 0.0028268518258381223\n",
            "\n",
            "Time cost for episode 6 is 130.13539671897888.\n",
            "\n",
            "Starting episode 7\n",
            "Run GANG ...\n",
            "Run SpEagle ...\n",
            "Traceback (most recent call last):\n",
            "\n"
          ]
        }
      ],
      "source": [
        "!python /content/drive/MyDrive/3player-Nash-Detect/Nash-Detect/training.py"
      ]
    },
    {
      "cell_type": "code",
      "source": [
        "!python /content/drive/MyDrive/3player-Nash-Detect/Nash-Detect/attack_generation.py"
      ],
      "metadata": {
        "id": "BWiKN1JQ7h2N"
      },
      "execution_count": null,
      "outputs": []
    },
    {
      "cell_type": "code",
      "source": [
        "!python /content/drive/MyDrive/3player-Nash-Detect/Nash-Detect/testing.py"
      ],
      "metadata": {
        "id": "0wo3Og0_CmH6"
      },
      "execution_count": null,
      "outputs": []
    },
    {
      "cell_type": "code",
      "source": [
        "!python /content/drive/MyDrive/3player-Nash-Detect/Nash-Detect/testing.py"
      ],
      "metadata": {
        "id": "Amwxm01sHdlU"
      },
      "execution_count": null,
      "outputs": []
    }
  ],
  "metadata": {
    "colab": {
      "collapsed_sections": [],
      "provenance": [],
      "mount_file_id": "1c9jTFDw7wyEuai1VU8zyfKtuFKuZeMCE",
      "authorship_tag": "ABX9TyMbSRMxDnRtiXpMvjrlHdfW",
      "include_colab_link": true
    },
    "kernelspec": {
      "display_name": "Python 3",
      "name": "python3"
    },
    "language_info": {
      "name": "python"
    }
  },
  "nbformat": 4,
  "nbformat_minor": 0
}